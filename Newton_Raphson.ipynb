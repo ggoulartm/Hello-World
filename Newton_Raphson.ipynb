{
  "nbformat": 4,
  "nbformat_minor": 0,
  "metadata": {
    "kernelspec": {
      "display_name": "Python 3",
      "language": "python",
      "name": "python3"
    },
    "language_info": {
      "codemirror_mode": {
        "name": "ipython",
        "version": 3
      },
      "file_extension": ".py",
      "mimetype": "text/x-python",
      "name": "python",
      "nbconvert_exporter": "python",
      "pygments_lexer": "ipython3",
      "version": "3.8.5"
    },
    "colab": {
      "name": "Newton-Raphson",
      "provenance": [],
      "collapsed_sections": [],
      "include_colab_link": true
    }
  },
  "cells": [
    {
      "cell_type": "markdown",
      "metadata": {
        "id": "view-in-github",
        "colab_type": "text"
      },
      "source": [
        "<a href=\"https://colab.research.google.com/github/ggoulartm/Hello-World/blob/master/Newton_Raphson.ipynb\" target=\"_parent\"><img src=\"https://colab.research.google.com/assets/colab-badge.svg\" alt=\"Open In Colab\"/></a>"
      ]
    },
    {
      "cell_type": "markdown",
      "metadata": {
        "id": "zhvQWwfb07pr"
      },
      "source": [
        "# <center>**Programação Econômica e Financeira - Taxa Interna de Retorno**</center>"
      ]
    },
    {
      "cell_type": "markdown",
      "metadata": {
        "id": "13JA6-M807pu"
      },
      "source": [
        "# Gabriel Goulart Müller - Engenharia Eletrônica\n"
      ]
    },
    {
      "cell_type": "code",
      "source": [
        "import numpy as np\n",
        "from sympy import *\n",
        "# define what is the variable\n",
        "x = symbols('x')\n",
        "# define the function\n",
        "f = (2.4/0.76*x-1)*(1+x)**5+1\n",
        "# find the first derivative\n",
        "fderivative = f.diff(x)\n",
        "fderivative"
      ],
      "metadata": {
        "colab": {
          "base_uri": "https://localhost:8080/",
          "height": 39
        },
        "id": "c2uTrG3lTQwY",
        "outputId": "74b04112-4a47-4c05-a9d2-132f6783a1b0"
      },
      "execution_count": 1,
      "outputs": [
        {
          "output_type": "execute_result",
          "data": {
            "text/plain": [
              "3.15789473684211*(x + 1)**5 + 5*(x + 1)**4*(3.15789473684211*x - 1)"
            ],
            "text/latex": "$\\displaystyle 3.15789473684211 \\left(x + 1\\right)^{5} + 5 \\left(x + 1\\right)^{4} \\left(3.15789473684211 x - 1\\right)$"
          },
          "metadata": {},
          "execution_count": 1
        }
      ]
    },
    {
      "cell_type": "code",
      "source": [
        "fderivative.evalf(subs= {x:0})"
      ],
      "metadata": {
        "colab": {
          "base_uri": "https://localhost:8080/",
          "height": 37
        },
        "id": "Dro56oJnUABu",
        "outputId": "5f984f03-ec50-42ca-97dd-4fa3c762df2c"
      },
      "execution_count": 4,
      "outputs": [
        {
          "output_type": "execute_result",
          "data": {
            "text/plain": [
              "-1.84210526315789"
            ],
            "text/latex": "$\\displaystyle -1.84210526315789$"
          },
          "metadata": {},
          "execution_count": 4
        }
      ]
    },
    {
      "cell_type": "code",
      "source": [
        "xn = 1\n",
        "for i in range(10):\n",
        "    xn = xn - np.float(f.evalf(subs= {x:xn})) / np.float(fderivative.evalf(subs= {x:xn}))\n",
        "    print(f'The {i+1} iteration xn is {xn:.2} and f(xn) is {np.float(f.evalf(subs= {x:xn})):.2}')"
      ],
      "metadata": {
        "colab": {
          "base_uri": "https://localhost:8080/"
        },
        "id": "BvlDOhBSUNEi",
        "outputId": "2ad42c45-aec0-45c5-8d34-72f660f4aa95"
      },
      "execution_count": 3,
      "outputs": [
        {
          "output_type": "stream",
          "name": "stdout",
          "text": [
            "The 1 iteration xn is 0.74 and f(xn) is 2.3e+01\n",
            "The 2 iteration xn is 0.54 and f(xn) is 7.3\n",
            "The 3 iteration xn is 0.39 and f(xn) is 2.2\n",
            "The 4 iteration xn is 0.28 and f(xn) is 0.65\n",
            "The 5 iteration xn is 0.22 and f(xn) is 0.16\n",
            "The 6 iteration xn is 0.19 and f(xn) is 0.029\n",
            "The 7 iteration xn is 0.18 and f(xn) is 0.0019\n",
            "The 8 iteration xn is 0.18 and f(xn) is 9.9e-06\n",
            "The 9 iteration xn is 0.18 and f(xn) is 2.8e-10\n",
            "The 10 iteration xn is 0.18 and f(xn) is -2e-17\n"
          ]
        },
        {
          "output_type": "stream",
          "name": "stderr",
          "text": [
            "/usr/local/lib/python3.7/dist-packages/ipykernel_launcher.py:3: DeprecationWarning: `np.float` is a deprecated alias for the builtin `float`. To silence this warning, use `float` by itself. Doing this will not modify any behavior and is safe. If you specifically wanted the numpy scalar type, use `np.float64` here.\n",
            "Deprecated in NumPy 1.20; for more details and guidance: https://numpy.org/devdocs/release/1.20.0-notes.html#deprecations\n",
            "  This is separate from the ipykernel package so we can avoid doing imports until\n",
            "/usr/local/lib/python3.7/dist-packages/ipykernel_launcher.py:4: DeprecationWarning: `np.float` is a deprecated alias for the builtin `float`. To silence this warning, use `float` by itself. Doing this will not modify any behavior and is safe. If you specifically wanted the numpy scalar type, use `np.float64` here.\n",
            "Deprecated in NumPy 1.20; for more details and guidance: https://numpy.org/devdocs/release/1.20.0-notes.html#deprecations\n",
            "  after removing the cwd from sys.path.\n"
          ]
        }
      ]
    }
  ]
}