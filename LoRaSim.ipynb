{
  "nbformat": 4,
  "nbformat_minor": 0,
  "metadata": {
    "colab": {
      "provenance": [],
      "toc_visible": true,
      "include_colab_link": true
    },
    "kernelspec": {
      "name": "python3",
      "display_name": "Python 3"
    }
  },
  "cells": [
    {
      "cell_type": "markdown",
      "metadata": {
        "id": "view-in-github",
        "colab_type": "text"
      },
      "source": [
        "<a href=\"https://colab.research.google.com/github/ggoulartm/embeddedSYSTEMS/blob/C%2B%2BsistemasEmbarcados/LoRaSim.ipynb\" target=\"_parent\"><img src=\"https://colab.research.google.com/assets/colab-badge.svg\" alt=\"Open In Colab\"/></a>"
      ]
    },
    {
      "cell_type": "markdown",
      "metadata": {
        "id": "XTqCXdwHMq-K"
      },
      "source": [
        "# LoRaSim\n",
        "Versão simplificada  e adaptada de um simulador de LoRaWAN desenvolvido por [Bor e Voigt](https://www.lancaster.ac.uk/scc/sites/lora/lorasim.html)."
      ]
    },
    {
      "cell_type": "markdown",
      "metadata": {
        "id": "EM3BQ-9hcEfq"
      },
      "source": [
        "# Setup Inicial"
      ]
    },
    {
      "cell_type": "code",
      "metadata": {
        "id": "UvSvEhPgMZYj"
      },
      "source": [
        "%%capture\n",
        "! pip install -r requirements.txt\n",
        "import loraDirMulBS as LoRaSim\n",
        "import plots\n"
      ],
      "execution_count": null,
      "outputs": []
    },
    {
      "cell_type": "markdown",
      "metadata": {
        "id": "eDy8v8mrPdR5"
      },
      "source": [
        "# Simulações\n",
        "\n",
        "Outras possíveis configurações de transmissão para os experimentos são:\n",
        "\n",
        "    0: SF12, BW125, CR4/8, um canal de frequência\n",
        "    1: SF7, BW125, CR4/8, um canal de frequência\n",
        "    2: Tempo no ar dos pacotes otimizado de acordo com a distância ao GW"
      ]
    },
    {
      "cell_type": "code",
      "metadata": {
        "id": "3OOdlZ_Lz96w"
      },
      "source": [
        "%%capture\n",
        "# Nesta célula a seleção dos parâmetros e a simulação acontecem\n",
        "\n",
        "NumeroUsuarios = 150\n",
        "TempoEntreTransmissoes = 1000 # (segundos)\n",
        "Configuração = 0\n",
        "TempoSimulacao = 24 # (horas)\n",
        "NumeroDeGateways = 1 # (1..4, 6, 8, 24)\n",
        "DistanciaMaximaAteGateway = 5000 # (m), maior que 1000 m\n",
        "\n",
        "LoRaSim.simulation([_, NumeroUsuarios, TempoEntreTransmissoes,\n",
        "              Configuração, TempoSimulacao, NumeroDeGateways,\n",
        "              True, DistanciaMaximaAteGateway])"
      ],
      "execution_count": null,
      "outputs": []
    },
    {
      "cell_type": "code",
      "metadata": {
        "id": "WhyrBJJZwnkE"
      },
      "source": [
        "# Plota distribuição de SF e BW de acordo com a distância ao GW\n",
        "\n",
        "plots.plot_distances_SF('sf_distance.csv')"
      ],
      "execution_count": null,
      "outputs": []
    },
    {
      "cell_type": "code",
      "metadata": {
        "id": "VJHzf0887gfT"
      },
      "source": [],
      "execution_count": null,
      "outputs": []
    }
  ]
}